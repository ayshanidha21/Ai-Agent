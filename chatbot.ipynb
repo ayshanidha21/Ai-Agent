{
  "cells": [
    {
      "cell_type": "code",
      "execution_count": null,
      "metadata": {
        "colab": {
          "background_save": true,
          "base_uri": "https://localhost:8080/",
          "height": 684
        },
        "id": "j_D2bla1kpGV",
        "outputId": "4d67b4f4-2e26-446c-b996-a963b2dbead0"
      },
      "outputs": [
        {
          "output_type": "stream",
          "name": "stderr",
          "text": [
            "/tmp/ipython-input-1-672684059.py:38: UserWarning: You have not specified a value for the `type` parameter. Defaulting to the 'tuples' format for chatbot messages, but this is deprecated and will be removed in a future version of Gradio. Please set type='messages' instead, which uses openai-style dictionaries with 'role' and 'content' keys.\n",
            "  chatbot = gr.Chatbot()\n"
          ]
        },
        {
          "output_type": "stream",
          "name": "stdout",
          "text": [
            "It looks like you are running Gradio on a hosted a Jupyter notebook. For the Gradio app to work, sharing must be enabled. Automatically setting `share=True` (you can turn this off by setting `share=False` in `launch()` explicitly).\n",
            "\n",
            "Colab notebook detected. This cell will run indefinitely so that you can see errors and logs. To turn off, set debug=False in launch().\n",
            "* Running on public URL: https://8713221ffa0a7e03e7.gradio.live\n",
            "\n",
            "This share link expires in 1 week. For free permanent hosting and GPU upgrades, run `gradio deploy` from the terminal in the working directory to deploy to Hugging Face Spaces (https://huggingface.co/spaces)\n"
          ]
        },
        {
          "output_type": "display_data",
          "data": {
            "text/plain": [
              "<IPython.core.display.HTML object>"
            ],
            "text/html": [
              "<div><iframe src=\"https://8713221ffa0a7e03e7.gradio.live\" width=\"100%\" height=\"500\" allow=\"autoplay; camera; microphone; clipboard-read; clipboard-write;\" frameborder=\"0\" allowfullscreen></iframe></div>"
            ]
          },
          "metadata": {}
        }
      ],
      "source": [
        " # !pip install gradio requests\n",
        "\n",
        "import os\n",
        "os.environ['GROQ_API_KEY'] = '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'\n",
        "import requests\n",
        "import gradio as gr\n",
        "def groq_chatbot(user_message,history):\n",
        "    api_key = os.environ.get(\"GROQ_API_KEY\")\n",
        "    if not api_key:\n",
        "       return\"API key not found\"\n",
        "    url = \"https://api.groq.com/openai/v1/chat/completions\"\n",
        "    headers = {\n",
        "        \"Content-Type\": \"application/json\",\n",
        "        \"Authorization\": f\"Bearer {api_key}\"\n",
        "    }\n",
        "    messages = [{\"role\":\"system\",\"content\":\"You are medical based bot,only answered to education related  query \"}]\n",
        "    for user,bot in history:\n",
        "        messages.append({\"role\":\"user\",\"content\":pair[0]})\n",
        "        messages.append({\"role\":\"assistant\",\"content\":pair[1]})\n",
        "    messages.append({\"role\":\"user\",\"content\":user_message})\n",
        "\n",
        "    payload = {\n",
        "        \"model\":\"llama-3.3-70b-versatile\",\n",
        "        \"messages\":messages,\n",
        "        \"temperature\":0.7\n",
        "    }\n",
        "\n",
        "    response =requests.post(url,headers=headers,json=payload)\n",
        "\n",
        "    if response.status_code == 200:\n",
        "        bot_reply = response.json()['choices'][0]['message']['content']\n",
        "        history.append((user_message,bot_reply))\n",
        "        return \"\",history\n",
        "    else:\n",
        "        return f\"Error:{response.status_code}:{response.text}\",history\n",
        "with gr.Blocks(title=\"Groq Chatbot\") as demo:\n",
        "    gr.Markdown('## Chatbot Powered by Groq')\n",
        "    chatbot = gr.Chatbot()\n",
        "    msg = gr.Textbox(label=\"Your messages\",placeholder=\"Ask me anything...\")\n",
        "    clear = gr.Button(\"clear Chat\")\n",
        "\n",
        "    msg.submit(groq_chatbot,[msg,chatbot],[msg,chatbot])\n",
        "    clear.click(lambda:None,None,chatbot,queue=False)\n",
        "\n",
        "demo.launch(debug=True)"
      ]
    },
    {
      "cell_type": "code",
      "execution_count": null,
      "metadata": {
        "colab": {
          "base_uri": "https://localhost:8080/"
        },
        "id": "fb61e1f1",
        "outputId": "9ee0e82c-c738-4b7a-f406-7cd0a526c00c"
      },
      "outputs": [
        {
          "name": "stdout",
          "output_type": "stream",
          "text": [
            "Requirement already satisfied: groq in /usr/local/lib/python3.11/dist-packages (0.29.0)\n",
            "Requirement already satisfied: anyio<5,>=3.5.0 in /usr/local/lib/python3.11/dist-packages (from groq) (4.9.0)\n",
            "Requirement already satisfied: distro<2,>=1.7.0 in /usr/local/lib/python3.11/dist-packages (from groq) (1.9.0)\n",
            "Requirement already satisfied: httpx<1,>=0.23.0 in /usr/local/lib/python3.11/dist-packages (from groq) (0.28.1)\n",
            "Requirement already satisfied: pydantic<3,>=1.9.0 in /usr/local/lib/python3.11/dist-packages (from groq) (2.11.7)\n",
            "Requirement already satisfied: sniffio in /usr/local/lib/python3.11/dist-packages (from groq) (1.3.1)\n",
            "Requirement already satisfied: typing-extensions<5,>=4.10 in /usr/local/lib/python3.11/dist-packages (from groq) (4.14.0)\n",
            "Requirement already satisfied: idna>=2.8 in /usr/local/lib/python3.11/dist-packages (from anyio<5,>=3.5.0->groq) (3.10)\n",
            "Requirement already satisfied: certifi in /usr/local/lib/python3.11/dist-packages (from httpx<1,>=0.23.0->groq) (2025.6.15)\n",
            "Requirement already satisfied: httpcore==1.* in /usr/local/lib/python3.11/dist-packages (from httpx<1,>=0.23.0->groq) (1.0.9)\n",
            "Requirement already satisfied: h11>=0.16 in /usr/local/lib/python3.11/dist-packages (from httpcore==1.*->httpx<1,>=0.23.0->groq) (0.16.0)\n",
            "Requirement already satisfied: annotated-types>=0.6.0 in /usr/local/lib/python3.11/dist-packages (from pydantic<3,>=1.9.0->groq) (0.7.0)\n",
            "Requirement already satisfied: pydantic-core==2.33.2 in /usr/local/lib/python3.11/dist-packages (from pydantic<3,>=1.9.0->groq) (2.33.2)\n",
            "Requirement already satisfied: typing-inspection>=0.4.0 in /usr/local/lib/python3.11/dist-packages (from pydantic<3,>=1.9.0->groq) (0.4.1)\n"
          ]
        }
      ],
      "source": [
        "!pip install groq"
      ]
    },
    {
      "cell_type": "code",
      "execution_count": null,
      "metadata": {
        "colab": {
          "base_uri": "https://localhost:8080/"
        },
        "id": "d6936060",
        "outputId": "c54ecb4d-1d45-4249-e06e-948e17edab9c"
      },
      "outputs": [
        {
          "name": "stdout",
          "output_type": "stream",
          "text": [
            "Human anatomy is the study of the structure and organization of the human body. It's essential for understanding how our bodies function and how diseases or injuries can be diagnosed and treated. Let's dive into an overview of human anatomy.\n",
            "\n",
            "**The Human Body: A Complex System**\n",
            "\n",
            "The human body is composed of several systems that work together to maintain homeostasis (a stable internal environment). These systems include:\n",
            "\n",
            "1. **Skeletal System**: Provides support, protection, and movement. It consists of 206 bones, cartilage, and ligaments.\n",
            "2. **Muscular System**: Enables movement, maintains posture, and regulates body temperature. There are over 640 muscles in the human body.\n",
            "3. **Nervous System**: Controls and coordinates body functions, including movement, sensation, and cognition. It consists of the central nervous system (brain and spinal cord) and the peripheral nervous system (nerves).\n",
            "4. **Circulatory System (Cardiovascular System)**: Transports oxygen and nutrients to cells and removes waste products. It includes the heart, blood vessels, and blood.\n",
            "5. **Respiratory System**: Brings oxygen into the body and removes carbon dioxide. It includes the lungs, airways, and breathing muscles.\n",
            "6. **Digestive System**: Breaks down food into nutrients that can be absorbed and utilized by the body. It includes the mouth, esophagus, stomach, small intestine, and large intestine.\n",
            "7. **Endocrine System**: Produces and regulates hormones that control various bodily functions, such as growth, metabolism, and reproductive processes.\n",
            "8. **Integumentary System**: Protects the body from external damage, regulates body temperature, and aids in the production of vitamin D. It includes the skin, hair, nails, and associated glands.\n",
            "\n",
            "**Major Organs and Systems**\n",
            "\n",
            "Some essential organs and systems include:\n",
            "\n",
            "* **Heart**: A muscular organ that pumps blood throughout the body.\n",
            "* **Lungs**: Two organs that bring oxygen into the body and remove carbon dioxide.\n",
            "* **Brain**: The control center of the body, responsible for processing information, controlling movement, and regulating various bodily functions.\n",
            "* **Liver**: A vital organ that filters blood, removes toxins, and aids in digestion.\n",
            "* **Kidneys**: Two organs that filter waste and excess fluids from the blood and regulate electrolyte balance.\n",
            "\n",
            "**Body Regions**\n",
            "\n",
            "The human body can be divided into several regions:\n",
            "\n",
            "* **Head and Neck**: The upper part of the body, containing the brain, eyes, ears, nose, and mouth.\n",
            "* **Thorax (Chest)**: The region between the neck and abdomen, containing the heart, lungs, and ribcage.\n",
            "* **Abdomen**: The region between the thorax and pelvis, containing the digestive organs, kidneys, and other vital structures.\n",
            "* **Pelvis**: The lower part of the body, containing the reproductive organs, bladder, and rectum.\n",
            "* **Upper and Lower Limbs**: The arms and legs, which are responsible for movement and support.\n",
            "\n",
            "**Cellular and Tissue Levels**\n",
            "\n",
            "Human anatomy can also be studied at the cellular and tissue levels:\n",
            "\n",
            "* **Cells**: The basic structural and functional units of the body, which work together to form tissues.\n",
            "* **Tissues**: Groups of similar cells that perform specific functions, such as muscle tissue, epithelial tissue, and connective tissue.\n",
            "\n",
            "Human anatomy is a vast and fascinating field that helps us understand the intricacies of the human body. This is just a brief overview, and there's much more to explore!\n",
            "\n",
            "What specific aspect of human anatomy would you like to learn more about?"
          ]
        }
      ],
      "source": [
        "from groq import Groq\n",
        "\n",
        "client = Groq()\n",
        "completion = client.chat.completions.create(\n",
        "    model=\"meta-llama/llama-4-scout-17b-16e-instruct\",\n",
        "    messages=[\n",
        "      {\n",
        "        \"role\": \"user\",\n",
        "        \"content\": \"You are education based bot,only answered to education related  query,explain human anatomy\"\n",
        "      }\n",
        "    ],\n",
        "    temperature=1,\n",
        "    max_completion_tokens=1024,\n",
        "    top_p=1,\n",
        "    stream=True,\n",
        "    stop=None,\n",
        ")\n",
        "\n",
        "for chunk in completion:\n",
        "    print(chunk.choices[0].delta.content or \"\", end=\"\")\n"
      ]
    }
  ],
  "metadata": {
    "colab": {
      "provenance": []
    },
    "kernelspec": {
      "display_name": "Python 3",
      "name": "python3"
    },
    "language_info": {
      "name": "python"
    }
  },
  "nbformat": 4,
  "nbformat_minor": 0
}