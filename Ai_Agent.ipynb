{
  "nbformat": 4,
  "nbformat_minor": 0,
  "metadata": {
    "colab": {
      "provenance": []
    },
    "kernelspec": {
      "name": "python3",
      "display_name": "Python 3"
    },
    "language_info": {
      "name": "python"
    }
  },
  "cells": [
    {
      "cell_type": "code",
      "execution_count": null,
      "metadata": {
        "colab": {
          "base_uri": "https://localhost:8080/"
        },
        "id": "meN8KP_4DPpP",
        "outputId": "c9663357-252b-4963-cc57-256f1b2643ba"
      },
      "outputs": [
        {
          "output_type": "stream",
          "name": "stdout",
          "text": [
            "You: hello\n",
            "AI: Hi there! How can I help you?\n",
            "You: what is your name?\n",
            "AI: I'm a simple AI agent.\n",
            "You: How are you doing today?\n",
            "AI: I'm an AI, I am always good.\n",
            "You: bye\n",
            "AI: Goodbye!\n",
            "You: what's the weather like?\n",
            "AI: Sorry, I don't understand that.\n",
            "You: exit\n",
            "AI: Goodbye!\n"
          ]
        }
      ],
      "source": [
        "class SimpleAIAgent:\n",
        "    def __init__(self):\n",
        "        self.knowledge = {\n",
        "            \"hello\": \"Hi there! How can I help you?\",\n",
        "            \"bye\": \"Goodbye!\",\n",
        "            \"how are you\": \"I'm an AI, I am always good.\",\n",
        "            \"name\": \"I'm a simple AI agent.\"\n",
        "        }\n",
        "\n",
        "    def respond(self, user_input):\n",
        "        user_input = user_input.lower()\n",
        "        for key in self.knowledge:\n",
        "            if key in user_input:\n",
        "                return self.knowledge[key]\n",
        "        return \"Sorry, I don't understand that.\"\n",
        "\n",
        "if __name__ == \"__main__\":\n",
        "    agent = SimpleAIAgent()\n",
        "    while True:\n",
        "        user_input = input(\"You: \")\n",
        "        if user_input.lower() == \"exit\":\n",
        "            print(\"AI: Goodbye!\")\n",
        "            break\n",
        "        response = agent.respond(user_input)\n",
        "        print(\"AI:\", response)"
      ]
    }
  ]
}